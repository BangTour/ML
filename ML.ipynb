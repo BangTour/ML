{
  "nbformat": 4,
  "nbformat_minor": 0,
  "metadata": {
    "colab": {
      "provenance": [],
      "gpuType": "T4",
      "mount_file_id": "1F9E9DKmfXslJNTtM41fNyC1zgFDnUICc",
      "authorship_tag": "ABX9TyOIHcFXQMybFFnO2OUyXj13",
      "include_colab_link": true
    },
    "kernelspec": {
      "name": "python3",
      "display_name": "Python 3"
    },
    "language_info": {
      "name": "python"
    },
    "accelerator": "GPU"
  },
  "cells": [
    {
      "cell_type": "markdown",
      "metadata": {
        "id": "view-in-github",
        "colab_type": "text"
      },
      "source": [
        "<a href=\"https://colab.research.google.com/github/ThoriqSyah/ML/blob/main/ML.ipynb\" target=\"_parent\"><img src=\"https://colab.research.google.com/assets/colab-badge.svg\" alt=\"Open In Colab\"/></a>"
      ]
    },
    {
      "cell_type": "markdown",
      "source": [
        "### **JUMLAH DATA**\n",
        "Menampilkan masing-masing dataset yaitu tourism_with_id.csv dan tourism_rating.csv menggunakan library pandas dari format .csv menjadi dataframe.\n"
      ],
      "metadata": {
        "id": "RYcsks-MX3y1"
      }
    },
    {
      "cell_type": "code",
      "source": [
        "# Menggunakan Library Pandas dari format .csf menjadi dataframe\n",
        "import pandas as pd\n",
        "\n",
        "# Import File\n",
        "places = pd.read_csv('/content/drive/MyDrive/BANGTOR/archive/tourism_with_id.csv')\n",
        "ratings = pd.read_csv('/content/drive/MyDrive/BANGTOR/archive/tourism_rating.csv')\n",
        "\n",
        "#Print Jumlah Places dan Rating\n",
        "print('Jumlah places: ', len(places.Place_Id.unique()))\n",
        "print('Jumlah ratings: ', len(ratings.Place_Ratings))"
      ],
      "metadata": {
        "colab": {
          "base_uri": "https://localhost:8080/"
        },
        "id": "JcVDlMPAzARC",
        "outputId": "a3785c61-4454-40c9-aeb6-e82c8d93acff"
      },
      "execution_count": 27,
      "outputs": [
        {
          "output_type": "stream",
          "name": "stdout",
          "text": [
            "Jumlah places:  437\n",
            "Jumlah ratings:  10000\n"
          ]
        }
      ]
    },
    {
      "cell_type": "code",
      "source": [
        "#Pengecekan informasi variabel dari dataset places berupa jumlah kolom, nama kolom, jumlah data per kolom dan tipe datanya.\n",
        "places.info()"
      ],
      "metadata": {
        "colab": {
          "base_uri": "https://localhost:8080/"
        },
        "id": "ivCTN05b4p10",
        "outputId": "83c2799b-a226-4cc0-a597-2939fb21e214"
      },
      "execution_count": 28,
      "outputs": [
        {
          "output_type": "stream",
          "name": "stdout",
          "text": [
            "<class 'pandas.core.frame.DataFrame'>\n",
            "RangeIndex: 437 entries, 0 to 436\n",
            "Data columns (total 13 columns):\n",
            " #   Column        Non-Null Count  Dtype  \n",
            "---  ------        --------------  -----  \n",
            " 0   Place_Id      437 non-null    int64  \n",
            " 1   Place_Name    437 non-null    object \n",
            " 2   Description   437 non-null    object \n",
            " 3   Category      437 non-null    object \n",
            " 4   City          437 non-null    object \n",
            " 5   Price         437 non-null    int64  \n",
            " 6   Rating        437 non-null    float64\n",
            " 7   Time_Minutes  205 non-null    float64\n",
            " 8   Coordinate    437 non-null    object \n",
            " 9   Lat           437 non-null    float64\n",
            " 10  Long          437 non-null    float64\n",
            " 11  Unnamed: 11   0 non-null      float64\n",
            " 12  Unnamed: 12   437 non-null    int64  \n",
            "dtypes: float64(5), int64(3), object(5)\n",
            "memory usage: 44.5+ KB\n"
          ]
        }
      ]
    },
    {
      "cell_type": "markdown",
      "source": [
        "File ini terdiri dari 10 kolom sebagai berikut:\n",
        "\n",
        "\n",
        "*   Place_Id: kolom yang menunjukkan id dari setiap tempat wisata.\n",
        "*   Place_Name: kolom yang menunjukkan nama dari setiap tempat wisata.\n",
        "* Description: kolom yang menunjukkan deskripsi dari setiap tempat wisata.\n",
        "*   Category: kolom yang menunjukkan kategori dari setiap tempat wisata.\n",
        "*   City: kolom yang menunjukkan kota dimana tempat wisata tersebut berada.\n",
        "*   Price: kolom yang menunjukkan harga tiket masuk ke tempat wisata tersebut.\n",
        "*   Rating: kolom yang menunjukkan rating dari setiap tempat wisata.\n",
        "*  Time_Minutes:  kolom yang menunjukkan waktu yang diperlukan untuk mengunjungi tempat wisata tersebut.\n",
        "*   Coordinate: kolom yang menunjukkan koordinat dari setiap tempat wisata.\n",
        "*   Lat: kolom yang menunjukkan latitude dari setiap tempat wisata.\n",
        "*   Long: kolom yang menunjukkan longitude dari setiap tempat wisata.\n",
        "\n",
        "\n",
        "\n",
        "\n",
        "\n",
        "\n",
        "\n",
        "\n",
        "\n",
        "\n",
        "\n",
        "\n",
        "\n"
      ],
      "metadata": {
        "id": "WEUWK9H-Ykj6"
      }
    },
    {
      "cell_type": "code",
      "source": [
        "#Menampilkan sample Dataset\n",
        "places.head()"
      ],
      "metadata": {
        "colab": {
          "base_uri": "https://localhost:8080/",
          "height": 354
        },
        "id": "rQKskdQzQci5",
        "outputId": "c4059b6e-4951-448f-fbb4-16509951336c"
      },
      "execution_count": 29,
      "outputs": [
        {
          "output_type": "execute_result",
          "data": {
            "text/plain": [
              "   Place_Id                         Place_Name  \\\n",
              "0         1                   Monumen Nasional   \n",
              "1         2                           Kota Tua   \n",
              "2         3                      Dunia Fantasi   \n",
              "3         4  Taman Mini Indonesia Indah (TMII)   \n",
              "4         5           Atlantis Water Adventure   \n",
              "\n",
              "                                         Description       Category     City  \\\n",
              "0  Monumen Nasional atau yang populer disingkat d...         Budaya  Jakarta   \n",
              "1  Kota tua di Jakarta, yang juga bernama Kota Tu...         Budaya  Jakarta   \n",
              "2  Dunia Fantasi atau disebut juga Dufan adalah t...  Taman Hiburan  Jakarta   \n",
              "3  Taman Mini Indonesia Indah merupakan suatu kaw...  Taman Hiburan  Jakarta   \n",
              "4  Atlantis Water Adventure atau dikenal dengan A...  Taman Hiburan  Jakarta   \n",
              "\n",
              "    Price  Rating  Time_Minutes  \\\n",
              "0   20000     4.6          15.0   \n",
              "1       0     4.6          90.0   \n",
              "2  270000     4.6         360.0   \n",
              "3   10000     4.5           NaN   \n",
              "4   94000     4.5          60.0   \n",
              "\n",
              "                                        Coordinate       Lat        Long  \\\n",
              "0          {'lat': -6.1753924, 'lng': 106.8271528} -6.175392  106.827153   \n",
              "1  {'lat': -6.137644799999999, 'lng': 106.8171245} -6.137645  106.817125   \n",
              "2  {'lat': -6.125312399999999, 'lng': 106.8335377} -6.125312  106.833538   \n",
              "3  {'lat': -6.302445899999999, 'lng': 106.8951559} -6.302446  106.895156   \n",
              "4             {'lat': -6.12419, 'lng': 106.839134} -6.124190  106.839134   \n",
              "\n",
              "   Unnamed: 11  Unnamed: 12  \n",
              "0          NaN            1  \n",
              "1          NaN            2  \n",
              "2          NaN            3  \n",
              "3          NaN            4  \n",
              "4          NaN            5  "
            ],
            "text/html": [
              "\n",
              "  <div id=\"df-cc643102-0a3e-4706-825b-43c22eec5dec\">\n",
              "    <div class=\"colab-df-container\">\n",
              "      <div>\n",
              "<style scoped>\n",
              "    .dataframe tbody tr th:only-of-type {\n",
              "        vertical-align: middle;\n",
              "    }\n",
              "\n",
              "    .dataframe tbody tr th {\n",
              "        vertical-align: top;\n",
              "    }\n",
              "\n",
              "    .dataframe thead th {\n",
              "        text-align: right;\n",
              "    }\n",
              "</style>\n",
              "<table border=\"1\" class=\"dataframe\">\n",
              "  <thead>\n",
              "    <tr style=\"text-align: right;\">\n",
              "      <th></th>\n",
              "      <th>Place_Id</th>\n",
              "      <th>Place_Name</th>\n",
              "      <th>Description</th>\n",
              "      <th>Category</th>\n",
              "      <th>City</th>\n",
              "      <th>Price</th>\n",
              "      <th>Rating</th>\n",
              "      <th>Time_Minutes</th>\n",
              "      <th>Coordinate</th>\n",
              "      <th>Lat</th>\n",
              "      <th>Long</th>\n",
              "      <th>Unnamed: 11</th>\n",
              "      <th>Unnamed: 12</th>\n",
              "    </tr>\n",
              "  </thead>\n",
              "  <tbody>\n",
              "    <tr>\n",
              "      <th>0</th>\n",
              "      <td>1</td>\n",
              "      <td>Monumen Nasional</td>\n",
              "      <td>Monumen Nasional atau yang populer disingkat d...</td>\n",
              "      <td>Budaya</td>\n",
              "      <td>Jakarta</td>\n",
              "      <td>20000</td>\n",
              "      <td>4.6</td>\n",
              "      <td>15.0</td>\n",
              "      <td>{'lat': -6.1753924, 'lng': 106.8271528}</td>\n",
              "      <td>-6.175392</td>\n",
              "      <td>106.827153</td>\n",
              "      <td>NaN</td>\n",
              "      <td>1</td>\n",
              "    </tr>\n",
              "    <tr>\n",
              "      <th>1</th>\n",
              "      <td>2</td>\n",
              "      <td>Kota Tua</td>\n",
              "      <td>Kota tua di Jakarta, yang juga bernama Kota Tu...</td>\n",
              "      <td>Budaya</td>\n",
              "      <td>Jakarta</td>\n",
              "      <td>0</td>\n",
              "      <td>4.6</td>\n",
              "      <td>90.0</td>\n",
              "      <td>{'lat': -6.137644799999999, 'lng': 106.8171245}</td>\n",
              "      <td>-6.137645</td>\n",
              "      <td>106.817125</td>\n",
              "      <td>NaN</td>\n",
              "      <td>2</td>\n",
              "    </tr>\n",
              "    <tr>\n",
              "      <th>2</th>\n",
              "      <td>3</td>\n",
              "      <td>Dunia Fantasi</td>\n",
              "      <td>Dunia Fantasi atau disebut juga Dufan adalah t...</td>\n",
              "      <td>Taman Hiburan</td>\n",
              "      <td>Jakarta</td>\n",
              "      <td>270000</td>\n",
              "      <td>4.6</td>\n",
              "      <td>360.0</td>\n",
              "      <td>{'lat': -6.125312399999999, 'lng': 106.8335377}</td>\n",
              "      <td>-6.125312</td>\n",
              "      <td>106.833538</td>\n",
              "      <td>NaN</td>\n",
              "      <td>3</td>\n",
              "    </tr>\n",
              "    <tr>\n",
              "      <th>3</th>\n",
              "      <td>4</td>\n",
              "      <td>Taman Mini Indonesia Indah (TMII)</td>\n",
              "      <td>Taman Mini Indonesia Indah merupakan suatu kaw...</td>\n",
              "      <td>Taman Hiburan</td>\n",
              "      <td>Jakarta</td>\n",
              "      <td>10000</td>\n",
              "      <td>4.5</td>\n",
              "      <td>NaN</td>\n",
              "      <td>{'lat': -6.302445899999999, 'lng': 106.8951559}</td>\n",
              "      <td>-6.302446</td>\n",
              "      <td>106.895156</td>\n",
              "      <td>NaN</td>\n",
              "      <td>4</td>\n",
              "    </tr>\n",
              "    <tr>\n",
              "      <th>4</th>\n",
              "      <td>5</td>\n",
              "      <td>Atlantis Water Adventure</td>\n",
              "      <td>Atlantis Water Adventure atau dikenal dengan A...</td>\n",
              "      <td>Taman Hiburan</td>\n",
              "      <td>Jakarta</td>\n",
              "      <td>94000</td>\n",
              "      <td>4.5</td>\n",
              "      <td>60.0</td>\n",
              "      <td>{'lat': -6.12419, 'lng': 106.839134}</td>\n",
              "      <td>-6.124190</td>\n",
              "      <td>106.839134</td>\n",
              "      <td>NaN</td>\n",
              "      <td>5</td>\n",
              "    </tr>\n",
              "  </tbody>\n",
              "</table>\n",
              "</div>\n",
              "      <button class=\"colab-df-convert\" onclick=\"convertToInteractive('df-cc643102-0a3e-4706-825b-43c22eec5dec')\"\n",
              "              title=\"Convert this dataframe to an interactive table.\"\n",
              "              style=\"display:none;\">\n",
              "        \n",
              "  <svg xmlns=\"http://www.w3.org/2000/svg\" height=\"24px\"viewBox=\"0 0 24 24\"\n",
              "       width=\"24px\">\n",
              "    <path d=\"M0 0h24v24H0V0z\" fill=\"none\"/>\n",
              "    <path d=\"M18.56 5.44l.94 2.06.94-2.06 2.06-.94-2.06-.94-.94-2.06-.94 2.06-2.06.94zm-11 1L8.5 8.5l.94-2.06 2.06-.94-2.06-.94L8.5 2.5l-.94 2.06-2.06.94zm10 10l.94 2.06.94-2.06 2.06-.94-2.06-.94-.94-2.06-.94 2.06-2.06.94z\"/><path d=\"M17.41 7.96l-1.37-1.37c-.4-.4-.92-.59-1.43-.59-.52 0-1.04.2-1.43.59L10.3 9.45l-7.72 7.72c-.78.78-.78 2.05 0 2.83L4 21.41c.39.39.9.59 1.41.59.51 0 1.02-.2 1.41-.59l7.78-7.78 2.81-2.81c.8-.78.8-2.07 0-2.86zM5.41 20L4 18.59l7.72-7.72 1.47 1.35L5.41 20z\"/>\n",
              "  </svg>\n",
              "      </button>\n",
              "      \n",
              "  <style>\n",
              "    .colab-df-container {\n",
              "      display:flex;\n",
              "      flex-wrap:wrap;\n",
              "      gap: 12px;\n",
              "    }\n",
              "\n",
              "    .colab-df-convert {\n",
              "      background-color: #E8F0FE;\n",
              "      border: none;\n",
              "      border-radius: 50%;\n",
              "      cursor: pointer;\n",
              "      display: none;\n",
              "      fill: #1967D2;\n",
              "      height: 32px;\n",
              "      padding: 0 0 0 0;\n",
              "      width: 32px;\n",
              "    }\n",
              "\n",
              "    .colab-df-convert:hover {\n",
              "      background-color: #E2EBFA;\n",
              "      box-shadow: 0px 1px 2px rgba(60, 64, 67, 0.3), 0px 1px 3px 1px rgba(60, 64, 67, 0.15);\n",
              "      fill: #174EA6;\n",
              "    }\n",
              "\n",
              "    [theme=dark] .colab-df-convert {\n",
              "      background-color: #3B4455;\n",
              "      fill: #D2E3FC;\n",
              "    }\n",
              "\n",
              "    [theme=dark] .colab-df-convert:hover {\n",
              "      background-color: #434B5C;\n",
              "      box-shadow: 0px 1px 3px 1px rgba(0, 0, 0, 0.15);\n",
              "      filter: drop-shadow(0px 1px 2px rgba(0, 0, 0, 0.3));\n",
              "      fill: #FFFFFF;\n",
              "    }\n",
              "  </style>\n",
              "\n",
              "      <script>\n",
              "        const buttonEl =\n",
              "          document.querySelector('#df-cc643102-0a3e-4706-825b-43c22eec5dec button.colab-df-convert');\n",
              "        buttonEl.style.display =\n",
              "          google.colab.kernel.accessAllowed ? 'block' : 'none';\n",
              "\n",
              "        async function convertToInteractive(key) {\n",
              "          const element = document.querySelector('#df-cc643102-0a3e-4706-825b-43c22eec5dec');\n",
              "          const dataTable =\n",
              "            await google.colab.kernel.invokeFunction('convertToInteractive',\n",
              "                                                     [key], {});\n",
              "          if (!dataTable) return;\n",
              "\n",
              "          const docLinkHtml = 'Like what you see? Visit the ' +\n",
              "            '<a target=\"_blank\" href=https://colab.research.google.com/notebooks/data_table.ipynb>data table notebook</a>'\n",
              "            + ' to learn more about interactive tables.';\n",
              "          element.innerHTML = '';\n",
              "          dataTable['output_type'] = 'display_data';\n",
              "          await google.colab.output.renderOutput(dataTable, element);\n",
              "          const docLink = document.createElement('div');\n",
              "          docLink.innerHTML = docLinkHtml;\n",
              "          element.appendChild(docLink);\n",
              "        }\n",
              "      </script>\n",
              "    </div>\n",
              "  </div>\n",
              "  "
            ]
          },
          "metadata": {},
          "execution_count": 29
        }
      ]
    },
    {
      "cell_type": "code",
      "source": [
        "#Pengecekan informasi variabel dari dataset ratings berupa jumlah kolom, nama kolom, jumlah data per kolom dan tipe datanya.\n",
        "ratings.info()"
      ],
      "metadata": {
        "colab": {
          "base_uri": "https://localhost:8080/"
        },
        "id": "8fS0xFrYQrwE",
        "outputId": "c8604fcd-535b-445f-f7b5-065dfdd7e1e4"
      },
      "execution_count": 30,
      "outputs": [
        {
          "output_type": "stream",
          "name": "stdout",
          "text": [
            "<class 'pandas.core.frame.DataFrame'>\n",
            "RangeIndex: 10000 entries, 0 to 9999\n",
            "Data columns (total 3 columns):\n",
            " #   Column         Non-Null Count  Dtype\n",
            "---  ------         --------------  -----\n",
            " 0   User_Id        10000 non-null  int64\n",
            " 1   Place_Id       10000 non-null  int64\n",
            " 2   Place_Ratings  10000 non-null  int64\n",
            "dtypes: int64(3)\n",
            "memory usage: 234.5 KB\n"
          ]
        }
      ]
    },
    {
      "cell_type": "markdown",
      "source": [
        "File terdiri dari 3 kolom\n",
        "1.   User_Id: identitas unik dari setiap pengguna.\n",
        "2.   Place_Id: identitas unik dari setiap tempat wisata.\n",
        "3.   Place_Ratings: penilaian atau rating yang diberikan oleh pengguna terhadap tempat wisata tertentu.\n"
      ],
      "metadata": {
        "id": "CD_fAQDsQ5iJ"
      }
    },
    {
      "cell_type": "code",
      "source": [
        "#Menampilkan sample dataset ratings.\n",
        "ratings.head()"
      ],
      "metadata": {
        "colab": {
          "base_uri": "https://localhost:8080/",
          "height": 206
        },
        "id": "US8RaVntRKRj",
        "outputId": "23a83a26-38f9-45c1-c5de-3f4f4052387d"
      },
      "execution_count": 31,
      "outputs": [
        {
          "output_type": "execute_result",
          "data": {
            "text/plain": [
              "   User_Id  Place_Id  Place_Ratings\n",
              "0        1       179              3\n",
              "1        1       344              2\n",
              "2        1         5              5\n",
              "3        1       373              3\n",
              "4        1       101              4"
            ],
            "text/html": [
              "\n",
              "  <div id=\"df-419628da-5cf5-4924-b699-f72a5127820c\">\n",
              "    <div class=\"colab-df-container\">\n",
              "      <div>\n",
              "<style scoped>\n",
              "    .dataframe tbody tr th:only-of-type {\n",
              "        vertical-align: middle;\n",
              "    }\n",
              "\n",
              "    .dataframe tbody tr th {\n",
              "        vertical-align: top;\n",
              "    }\n",
              "\n",
              "    .dataframe thead th {\n",
              "        text-align: right;\n",
              "    }\n",
              "</style>\n",
              "<table border=\"1\" class=\"dataframe\">\n",
              "  <thead>\n",
              "    <tr style=\"text-align: right;\">\n",
              "      <th></th>\n",
              "      <th>User_Id</th>\n",
              "      <th>Place_Id</th>\n",
              "      <th>Place_Ratings</th>\n",
              "    </tr>\n",
              "  </thead>\n",
              "  <tbody>\n",
              "    <tr>\n",
              "      <th>0</th>\n",
              "      <td>1</td>\n",
              "      <td>179</td>\n",
              "      <td>3</td>\n",
              "    </tr>\n",
              "    <tr>\n",
              "      <th>1</th>\n",
              "      <td>1</td>\n",
              "      <td>344</td>\n",
              "      <td>2</td>\n",
              "    </tr>\n",
              "    <tr>\n",
              "      <th>2</th>\n",
              "      <td>1</td>\n",
              "      <td>5</td>\n",
              "      <td>5</td>\n",
              "    </tr>\n",
              "    <tr>\n",
              "      <th>3</th>\n",
              "      <td>1</td>\n",
              "      <td>373</td>\n",
              "      <td>3</td>\n",
              "    </tr>\n",
              "    <tr>\n",
              "      <th>4</th>\n",
              "      <td>1</td>\n",
              "      <td>101</td>\n",
              "      <td>4</td>\n",
              "    </tr>\n",
              "  </tbody>\n",
              "</table>\n",
              "</div>\n",
              "      <button class=\"colab-df-convert\" onclick=\"convertToInteractive('df-419628da-5cf5-4924-b699-f72a5127820c')\"\n",
              "              title=\"Convert this dataframe to an interactive table.\"\n",
              "              style=\"display:none;\">\n",
              "        \n",
              "  <svg xmlns=\"http://www.w3.org/2000/svg\" height=\"24px\"viewBox=\"0 0 24 24\"\n",
              "       width=\"24px\">\n",
              "    <path d=\"M0 0h24v24H0V0z\" fill=\"none\"/>\n",
              "    <path d=\"M18.56 5.44l.94 2.06.94-2.06 2.06-.94-2.06-.94-.94-2.06-.94 2.06-2.06.94zm-11 1L8.5 8.5l.94-2.06 2.06-.94-2.06-.94L8.5 2.5l-.94 2.06-2.06.94zm10 10l.94 2.06.94-2.06 2.06-.94-2.06-.94-.94-2.06-.94 2.06-2.06.94z\"/><path d=\"M17.41 7.96l-1.37-1.37c-.4-.4-.92-.59-1.43-.59-.52 0-1.04.2-1.43.59L10.3 9.45l-7.72 7.72c-.78.78-.78 2.05 0 2.83L4 21.41c.39.39.9.59 1.41.59.51 0 1.02-.2 1.41-.59l7.78-7.78 2.81-2.81c.8-.78.8-2.07 0-2.86zM5.41 20L4 18.59l7.72-7.72 1.47 1.35L5.41 20z\"/>\n",
              "  </svg>\n",
              "      </button>\n",
              "      \n",
              "  <style>\n",
              "    .colab-df-container {\n",
              "      display:flex;\n",
              "      flex-wrap:wrap;\n",
              "      gap: 12px;\n",
              "    }\n",
              "\n",
              "    .colab-df-convert {\n",
              "      background-color: #E8F0FE;\n",
              "      border: none;\n",
              "      border-radius: 50%;\n",
              "      cursor: pointer;\n",
              "      display: none;\n",
              "      fill: #1967D2;\n",
              "      height: 32px;\n",
              "      padding: 0 0 0 0;\n",
              "      width: 32px;\n",
              "    }\n",
              "\n",
              "    .colab-df-convert:hover {\n",
              "      background-color: #E2EBFA;\n",
              "      box-shadow: 0px 1px 2px rgba(60, 64, 67, 0.3), 0px 1px 3px 1px rgba(60, 64, 67, 0.15);\n",
              "      fill: #174EA6;\n",
              "    }\n",
              "\n",
              "    [theme=dark] .colab-df-convert {\n",
              "      background-color: #3B4455;\n",
              "      fill: #D2E3FC;\n",
              "    }\n",
              "\n",
              "    [theme=dark] .colab-df-convert:hover {\n",
              "      background-color: #434B5C;\n",
              "      box-shadow: 0px 1px 3px 1px rgba(0, 0, 0, 0.15);\n",
              "      filter: drop-shadow(0px 1px 2px rgba(0, 0, 0, 0.3));\n",
              "      fill: #FFFFFF;\n",
              "    }\n",
              "  </style>\n",
              "\n",
              "      <script>\n",
              "        const buttonEl =\n",
              "          document.querySelector('#df-419628da-5cf5-4924-b699-f72a5127820c button.colab-df-convert');\n",
              "        buttonEl.style.display =\n",
              "          google.colab.kernel.accessAllowed ? 'block' : 'none';\n",
              "\n",
              "        async function convertToInteractive(key) {\n",
              "          const element = document.querySelector('#df-419628da-5cf5-4924-b699-f72a5127820c');\n",
              "          const dataTable =\n",
              "            await google.colab.kernel.invokeFunction('convertToInteractive',\n",
              "                                                     [key], {});\n",
              "          if (!dataTable) return;\n",
              "\n",
              "          const docLinkHtml = 'Like what you see? Visit the ' +\n",
              "            '<a target=\"_blank\" href=https://colab.research.google.com/notebooks/data_table.ipynb>data table notebook</a>'\n",
              "            + ' to learn more about interactive tables.';\n",
              "          element.innerHTML = '';\n",
              "          dataTable['output_type'] = 'display_data';\n",
              "          await google.colab.output.renderOutput(dataTable, element);\n",
              "          const docLink = document.createElement('div');\n",
              "          docLink.innerHTML = docLinkHtml;\n",
              "          element.appendChild(docLink);\n",
              "        }\n",
              "      </script>\n",
              "    </div>\n",
              "  </div>\n",
              "  "
            ]
          },
          "metadata": {},
          "execution_count": 31
        }
      ]
    },
    {
      "cell_type": "markdown",
      "source": [
        "# **Data Preparation**\n",
        "Transformasi data menjadi bentuk yang dapat diterima oleh model machine learning nanti. Proses data preparation yang dilakukan, yaitu membersihkan data missing value, dan melakukan pengecekan data duplikat.\n"
      ],
      "metadata": {
        "id": "ePkhaadwRSCo"
      }
    },
    {
      "cell_type": "code",
      "source": [
        "# Menghapus Kolom Yang Tidak Perlu\n",
        "places = places.drop(['Description', 'City', 'Price', 'Rating', 'Time_Minutes', 'Coordinate', 'Lat', 'Long', 'Unnamed: 11', 'Unnamed: 12'], axis=1)"
      ],
      "metadata": {
        "id": "zlfeyl2PRTEy"
      },
      "execution_count": 32,
      "outputs": []
    },
    {
      "cell_type": "code",
      "source": [
        "# Mengecek Missing Value \n",
        "places.isnull().sum()"
      ],
      "metadata": {
        "colab": {
          "base_uri": "https://localhost:8080/"
        },
        "id": "71R5khXPSPz3",
        "outputId": "15394bba-8432-4ef4-fb0c-96cdcce9ce80"
      },
      "execution_count": 33,
      "outputs": [
        {
          "output_type": "execute_result",
          "data": {
            "text/plain": [
              "Place_Id      0\n",
              "Place_Name    0\n",
              "Category      0\n",
              "dtype: int64"
            ]
          },
          "metadata": {},
          "execution_count": 33
        }
      ]
    },
    {
      "cell_type": "code",
      "source": [
        "# Mengecek Missing Value di Rating\n",
        "ratings.isnull().sum()"
      ],
      "metadata": {
        "colab": {
          "base_uri": "https://localhost:8080/"
        },
        "id": "oYkTp10FStZJ",
        "outputId": "0f6821b7-3d91-47e6-d3f6-72a87e28d499"
      },
      "execution_count": 34,
      "outputs": [
        {
          "output_type": "execute_result",
          "data": {
            "text/plain": [
              "User_Id          0\n",
              "Place_Id         0\n",
              "Place_Ratings    0\n",
              "dtype: int64"
            ]
          },
          "metadata": {},
          "execution_count": 34
        }
      ]
    }
  ]
}
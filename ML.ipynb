{
  "nbformat": 4,
  "nbformat_minor": 0,
  "metadata": {
    "colab": {
      "provenance": [],
      "gpuType": "T4",
      "mount_file_id": "1F9E9DKmfXslJNTtM41fNyC1zgFDnUICc",
      "authorship_tag": "ABX9TyOF1w6eVUUFbt26ibhexSqK",
      "include_colab_link": true
    },
    "kernelspec": {
      "name": "python3",
      "display_name": "Python 3"
    },
    "language_info": {
      "name": "python"
    },
    "accelerator": "GPU"
  },
  "cells": [
    {
      "cell_type": "markdown",
      "metadata": {
        "id": "view-in-github",
        "colab_type": "text"
      },
      "source": [
        "<a href=\"https://colab.research.google.com/github/ThoriqSyah/ML/blob/main/ML.ipynb\" target=\"_parent\"><img src=\"https://colab.research.google.com/assets/colab-badge.svg\" alt=\"Open In Colab\"/></a>"
      ]
    },
    {
      "cell_type": "markdown",
      "source": [
        "# **JUMLAH DATA**\n",
        "Menampilkan masing-masing dataset yaitu tourism_with_id.csv dan tourism_rating.csv menggunakan library pandas dari format .csv menjadi dataframe.\n"
      ],
      "metadata": {
        "id": "RYcsks-MX3y1"
      }
    },
    {
      "cell_type": "code",
      "source": [
        "# Menggunakan Library Pandas dari format .csf menjadi dataframe\n",
        "import pandas as pd\n",
        "\n",
        "# Import File\n",
        "places = pd.read_csv('/content/drive/MyDrive/BANGTOR/archive/tourism_with_id.csv')\n",
        "ratings = pd.read_csv('/content/drive/MyDrive/BANGTOR/archive/tourism_rating.csv')\n",
        "\n",
        "#Print Jumlah Places dan Rating\n",
        "print('Jumlah places: ', len(places.Place_Id.unique()))\n",
        "print('Jumlah ratings: ', len(ratings.Place_Ratings))"
      ],
      "metadata": {
        "colab": {
          "base_uri": "https://localhost:8080/"
        },
        "id": "JcVDlMPAzARC",
        "outputId": "c4d53f90-37d1-47e0-9142-cb3d7b769fa0"
      },
      "execution_count": 8,
      "outputs": [
        {
          "output_type": "stream",
          "name": "stdout",
          "text": [
            "Jumlah places:  437\n",
            "Jumlah ratings:  10000\n"
          ]
        }
      ]
    },
    {
      "cell_type": "code",
      "source": [
        "#Pengecekan informasi variabel dari dataset places berupa jumlah kolom, nama kolom, jumlah data per kolom dan tipe datanya.\n",
        "places.info()"
      ],
      "metadata": {
        "colab": {
          "base_uri": "https://localhost:8080/"
        },
        "id": "ivCTN05b4p10",
        "outputId": "bdbf0753-522e-4702-8537-f84b2de341a9"
      },
      "execution_count": null,
      "outputs": [
        {
          "output_type": "stream",
          "name": "stdout",
          "text": [
            "<class 'pandas.core.frame.DataFrame'>\n",
            "RangeIndex: 437 entries, 0 to 436\n",
            "Data columns (total 13 columns):\n",
            " #   Column        Non-Null Count  Dtype  \n",
            "---  ------        --------------  -----  \n",
            " 0   Place_Id      437 non-null    int64  \n",
            " 1   Place_Name    437 non-null    object \n",
            " 2   Description   437 non-null    object \n",
            " 3   Category      437 non-null    object \n",
            " 4   City          437 non-null    object \n",
            " 5   Price         437 non-null    int64  \n",
            " 6   Rating        437 non-null    float64\n",
            " 7   Time_Minutes  205 non-null    float64\n",
            " 8   Coordinate    437 non-null    object \n",
            " 9   Lat           437 non-null    float64\n",
            " 10  Long          437 non-null    float64\n",
            " 11  Unnamed: 11   0 non-null      float64\n",
            " 12  Unnamed: 12   437 non-null    int64  \n",
            "dtypes: float64(5), int64(3), object(5)\n",
            "memory usage: 44.5+ KB\n"
          ]
        }
      ]
    },
    {
      "cell_type": "markdown",
      "source": [
        "File ini terdiri dari 10 kolom sebagai berikut:\n",
        "\n",
        "\n",
        "*   Place_Id: kolom yang menunjukkan id dari setiap tempat wisata.\n",
        "*   Place_Name: kolom yang menunjukkan nama dari setiap tempat wisata.\n",
        "* Description: kolom yang menunjukkan deskripsi dari setiap tempat wisata.\n",
        "*   Category: kolom yang menunjukkan kategori dari setiap tempat wisata.\n",
        "*   City: kolom yang menunjukkan kota dimana tempat wisata tersebut berada.\n",
        "*   Price: kolom yang menunjukkan harga tiket masuk ke tempat wisata tersebut.\n",
        "*   Rating: kolom yang menunjukkan rating dari setiap tempat wisata.\n",
        "*  Time_Minutes:  kolom yang menunjukkan waktu yang diperlukan untuk mengunjungi tempat wisata tersebut.\n",
        "*   Coordinate: kolom yang menunjukkan koordinat dari setiap tempat wisata.\n",
        "*   Lat: kolom yang menunjukkan latitude dari setiap tempat wisata.\n",
        "*   Long: kolom yang menunjukkan longitude dari setiap tempat wisata.\n",
        "\n",
        "\n",
        "\n",
        "\n",
        "\n",
        "\n",
        "\n",
        "\n",
        "\n",
        "\n",
        "\n",
        "\n",
        "\n"
      ],
      "metadata": {
        "id": "WEUWK9H-Ykj6"
      }
    }
  ]
}